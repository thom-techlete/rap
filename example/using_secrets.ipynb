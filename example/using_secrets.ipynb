{
 "cells": [
  {
   "cell_type": "markdown",
   "id": "0",
   "metadata": {},
   "source": [
    "### Add Project root to system path"
   ]
  },
  {
   "cell_type": "code",
   "execution_count": null,
   "id": "1",
   "metadata": {},
   "outputs": [],
   "source": [
    "import sys\n",
    "from pathlib import Path\n",
    "\n",
    "sys.path.append(str(next(p for p in [Path.cwd()] + list(Path.cwd().parents) if (p / \".git\").exists())))"
   ]
  },
  {
   "cell_type": "markdown",
   "id": "2",
   "metadata": {},
   "source": [
    "### Get secrets dynamically from 1Password vaults"
   ]
  },
  {
   "cell_type": "code",
   "execution_count": null,
   "id": "3",
   "metadata": {},
   "outputs": [],
   "source": [
    "\n",
    "from utils.secrets import get_secret\n",
    "\n",
    "# Use the get_secret function to retrieve your secret. \n",
    "# To find the path to your secret go to 1Password Interace > your item > click dropdown next to field > \"Copy secret reference\"\n",
    "api_key = get_secret(\"op://Shared with all/RAGFLow API Key/credential\")\n",
    "if api_key:\n",
    "    print(f\"API_KEY is set: {api_key}\")\n",
    "else:\n",
    "    print(\"API_KEY is not set.\")"
   ]
  },
  {
   "cell_type": "code",
   "execution_count": null,
   "id": "4",
   "metadata": {},
   "outputs": [],
   "source": []
  }
 ],
 "metadata": {
  "kernelspec": {
   "display_name": "venv (3.12.3)",
   "language": "python",
   "name": "python3"
  },
  "language_info": {
   "codemirror_mode": {
    "name": "ipython",
    "version": 3
   },
   "file_extension": ".py",
   "mimetype": "text/x-python",
   "name": "python",
   "nbconvert_exporter": "python",
   "pygments_lexer": "ipython3",
   "version": "3.12.3"
  }
 },
 "nbformat": 4,
 "nbformat_minor": 5
}
